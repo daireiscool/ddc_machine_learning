{
 "cells": [
  {
   "cell_type": "code",
   "execution_count": 1,
   "metadata": {},
   "outputs": [],
   "source": [
    "from ddc_machine_learning.ml.naive_bayes.naive_bayes_text_classifier import Text_Naive_Bayes"
   ]
  },
  {
   "cell_type": "code",
   "execution_count": 2,
   "metadata": {},
   "outputs": [],
   "source": [
    "# Test Data\n",
    "data = {\n",
    "    \"spam\": ['send us your password', 'review our website', 'send your password', 'send us your account'],\n",
    "    \"ham\": ['Your activity report','benefits physical activity', 'the importance vows']}\n",
    "\n",
    "new_emails = {'spam':['renew your password', 'renew your vows'], 'ham':['benefits of our account', 'the importance of physical activity']}"
   ]
  },
  {
   "cell_type": "code",
   "execution_count": null,
   "metadata": {},
   "outputs": [],
   "source": []
  },
  {
   "cell_type": "code",
   "execution_count": 3,
   "metadata": {},
   "outputs": [],
   "source": [
    "# Initialise Class\n",
    "nb = Text_Naive_Bayes()"
   ]
  },
  {
   "cell_type": "code",
   "execution_count": 4,
   "metadata": {},
   "outputs": [],
   "source": [
    "# Fit the model with data\n",
    "nb.fit(data)"
   ]
  },
  {
   "cell_type": "code",
   "execution_count": 5,
   "metadata": {},
   "outputs": [
    {
     "data": {
      "text/plain": [
       "['spam', 'ham', 'spam', 'ham']"
      ]
     },
     "execution_count": 5,
     "metadata": {},
     "output_type": "execute_result"
    }
   ],
   "source": [
    "# Should be ['spam', 'spam', 'ham', 'ham']\n",
    "nb.classify(new_emails[\"spam\"] + new_emails[\"ham\"])"
   ]
  },
  {
   "cell_type": "code",
   "execution_count": 6,
   "metadata": {},
   "outputs": [
    {
     "data": {
      "text/plain": [
       "[[('spam', 0.008153558688635978), ('ham', 0.001488095238095238)],\n",
       " [('spam', 0.002717852896211992), ('ham', 0.002976190476190476)],\n",
       " [('spam', 9.371906538662042e-05), ('ham', 6.200396825396825e-05)],\n",
       " [('spam', 8.079229774708658e-07), ('ham', 3.1001984126984125e-05)]]"
      ]
     },
     "execution_count": 6,
     "metadata": {},
     "output_type": "execute_result"
    }
   ],
   "source": [
    "# spam and ham scores corresponding to the emails\n",
    "nb.clasification_scores"
   ]
  },
  {
   "cell_type": "code",
   "execution_count": 7,
   "metadata": {},
   "outputs": [],
   "source": [
    "# Update the model with new data\n",
    "nb.update(new_emails)"
   ]
  },
  {
   "cell_type": "code",
   "execution_count": 8,
   "metadata": {},
   "outputs": [
    {
     "data": {
      "text/plain": [
       "['spam', 'spam', 'ham', 'ham']"
      ]
     },
     "execution_count": 8,
     "metadata": {},
     "output_type": "execute_result"
    }
   ],
   "source": [
    "# Classification input data needs to be in the format a list of strings\n",
    "nb.classify(new_emails[\"spam\"] + new_emails[\"ham\"])"
   ]
  },
  {
   "cell_type": "code",
   "execution_count": 9,
   "metadata": {},
   "outputs": [
    {
     "data": {
      "text/plain": [
       "[[('spam', 0.000775851367567344), ('ham', 6.576178451178451e-05)],\n",
       " [('spam', 0.0004655108205404064), ('ham', 9.864267676767675e-05)],\n",
       " [('spam', 2.6856393492715754e-06), ('ham', 1.2330334595959594e-05)],\n",
       " [('spam', 4.590836494481326e-08), ('ham', 2.283395295548073e-06)]]"
      ]
     },
     "execution_count": 9,
     "metadata": {},
     "output_type": "execute_result"
    }
   ],
   "source": [
    "# spam and ham scores corresponding to the emails\n",
    "nb.clasification_scores"
   ]
  },
  {
   "cell_type": "code",
   "execution_count": null,
   "metadata": {},
   "outputs": [],
   "source": []
  },
  {
   "cell_type": "code",
   "execution_count": 10,
   "metadata": {},
   "outputs": [],
   "source": [
    "# Testing on unseen data"
   ]
  },
  {
   "cell_type": "code",
   "execution_count": 11,
   "metadata": {},
   "outputs": [
    {
     "data": {
      "text/plain": [
       "['spam', 'spam']"
      ]
     },
     "execution_count": 11,
     "metadata": {},
     "output_type": "execute_result"
    }
   ],
   "source": [
    "# spam and ham scores corresponding to the emails\n",
    "nb.classify([\"New emails\", \"This is a test\"])"
   ]
  },
  {
   "cell_type": "code",
   "execution_count": 12,
   "metadata": {},
   "outputs": [
    {
     "data": {
      "text/plain": [
       "[[('spam', 0.5454545454545454), ('ham', 0.45454545454545453)],\n",
       " [('spam', 0.5454545454545454), ('ham', 0.45454545454545453)]]"
      ]
     },
     "execution_count": 12,
     "metadata": {},
     "output_type": "execute_result"
    }
   ],
   "source": [
    "# spam and ham scores corresponding to the emails\n",
    "nb.clasification_scores"
   ]
  },
  {
   "cell_type": "code",
   "execution_count": null,
   "metadata": {},
   "outputs": [],
   "source": []
  }
 ],
 "metadata": {
  "kernelspec": {
   "display_name": "Python 3.8.5 64-bit ('masters_ai_ul')",
   "language": "python",
   "name": "python38564bitmastersaiulc7836012afae4587baba47159274ad93"
  },
  "language_info": {
   "codemirror_mode": {
    "name": "ipython",
    "version": 3
   },
   "file_extension": ".py",
   "mimetype": "text/x-python",
   "name": "python",
   "nbconvert_exporter": "python",
   "pygments_lexer": "ipython3",
   "version": "3.8.5"
  }
 },
 "nbformat": 4,
 "nbformat_minor": 4
}
